{
  "nbformat": 4,
  "nbformat_minor": 0,
  "metadata": {
    "colab": {
      "name": "poem.ipynb",
      "provenance": [],
      "authorship_tag": "ABX9TyP0RunBEK2nhXd9QSeK7i8D",
      "include_colab_link": true
    },
    "kernelspec": {
      "name": "python3",
      "display_name": "Python 3"
    }
  },
  "cells": [
    {
      "cell_type": "markdown",
      "metadata": {
        "id": "view-in-github",
        "colab_type": "text"
      },
      "source": [
        "<a href=\"https://colab.research.google.com/github/cmc5789123lc/ML_course/blob/main/poem.ipynb\" target=\"_parent\"><img src=\"https://colab.research.google.com/assets/colab-badge.svg\" alt=\"Open In Colab\"/></a>"
      ]
    },
    {
      "cell_type": "markdown",
      "metadata": {
        "id": "qGIP1DYp5AmR"
      },
      "source": [
        "$$P(\\frac{B}{A})=\\frac{P(B)P(\\frac{A}{B})}{P(A)})$$\r\n",
        "$$P(A)P(\\frac{B}{A})=P(B)P(\\frac{A}{B})$$\r\n",
        "\r\n",
        "$$$$\r\n",
        "\r\n",
        "$$\\frac{P(李白)P(\\frac{我喜歡你}{李白}):任何一首詩的我喜歡你，是李白寫的機率}{P(我/喜歡/你):任何一個人在詩中寫我喜歡你加總的機率}$$\r\n",
        "\r\n",
        "$$$$\r\n",
        "\r\n",
        "$$比大小\\begin{cases}P(\\frac{李白}{我/喜歡/你})\\\\P(\\frac{杜甫}{我/喜歡/你})\\\\P(\\frac{白居易}{我/喜歡/你})\\end{cases}$$\r\n",
        "\r\n",
        "$$$$\r\n",
        "\r\n",
        "$$\\to\\begin{cases}P(\\frac{B:李白}{A:我/喜歡/你})=\\frac{P(李白)P(\\frac{我/喜歡/你}{李白})}{P(我/喜歡/你)}\\;)\\\\P(\\frac{B:杜甫}{A:我/喜歡/你})=\\frac{P(杜甫)P(\\frac{我/喜歡/你}{杜甫})}{P(我/喜歡/你)}\\;)\\\\P(\\frac{B:白居易}{A:我/喜歡/你})=\\frac{P(白居易)P(\\frac{我/喜歡/你}{白居易})}{P(我/喜歡/你)}\\;\\;)\\end{cases}$$\r\n",
        "\r\n",
        "$$$$\r\n",
        "$$\\frac{P(李白)P(\\frac{我/喜歡/你}{李白})}{P(我/喜歡/你)}$$\r\n",
        "$$$$\r\n",
        "$$\\downarrow分母一樣不用比較$$\r\n",
        "$$$$\r\n",
        "$$P(李白)P(\\frac{我/喜歡/你}{李白})$$\r\n",
        "$$$$\r\n",
        "$$\\downarrow計算機率$$\r\n",
        "$$$$\r\n",
        "$$P(李白)\\times P(\\frac{我}{李白})\\times P(\\frac{喜歡}{李白,我}\\times P(\\frac{你}{李白,我,喜歡}))$$\r\n",
        "$$$$\r\n",
        "\r\n",
        "$$\\to\\begin{cases}P(李白)\\times P(\\frac{我}{李白})\\times P(\\frac{喜歡}{李白,我}\\times P(\\frac{你}{李白,我,喜歡}))\\\\P(杜甫)\\times P(\\frac{我}{杜甫})\\times P(\\frac{喜歡}{杜甫,我}\\times P(\\frac{你}{杜甫,我,喜歡}))\\\\P(白居易)\\times P(\\frac{我}{白居易})\\times P(\\frac{喜歡}{白居易,我}\\times P(\\frac{你}{白居易,我,喜歡}))\\end{cases}$$\r\n",
        "\r\n",
        "$$$$\r\n",
        "\r\n",
        "$$比大小轉換\\to$$\r\n",
        "$$$$\r\n",
        "$$單純貝式定理$$\r\n",
        "$$非獨立事件(李白寫詩)假設為獨立事件(李白骰骰子)\\to$$\r\n",
        "$$$$\r\n",
        "$$比大小\\begin{cases}P(李白)P(\\frac{我}{李白})P(\\frac{喜歡}{李白})P(\\frac{你}{李白})\\\\P(杜甫)P(\\frac{我}{杜甫})P(\\frac{喜歡}{杜甫})P(\\frac{你}{杜甫})\\\\P(白居易)P(\\frac{我}{白居易})P(\\frac{喜歡}{白居易})P(\\frac{你}{白居易})\\end{cases}$$"
      ]
    }
  ]
}